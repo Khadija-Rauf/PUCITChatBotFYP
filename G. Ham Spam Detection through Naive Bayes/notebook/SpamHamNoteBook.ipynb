{
 "cells": [
  {
   "cell_type": "markdown",
   "metadata": {},
   "source": [
    "# SPAM HAM Detection using Naive Bayes and Deployement using Flask and Heroku"
   ]
  },
  {
   "cell_type": "markdown",
   "metadata": {},
   "source": [
    "![Alt text](./email_spam_ham.png)"
   ]
  },
  {
   "cell_type": "markdown",
   "metadata": {},
   "source": [
    "### Important Packages:\n",
    "* sklearn\n",
    "* nltk\n",
    "* pickle\n",
    "* Flask\n",
    "* Jinja"
   ]
  },
  {
   "cell_type": "markdown",
   "metadata": {},
   "source": [
    "## Model.py\n",
    "### Training\n",
    "1. Preprocessing\n",
    "   * Preprocess DataSet with removing Stop Words and with use of CountVectorizer provider by Sklearn.\n",
    "   Then Pickel this trained dataset to a saparate file. This will be used to test our inputs.\n",
    "2. Naive Bayes\n",
    "   * Using Preprocessed text then it is predicted by two classes Ham or spam using MultinomialN. <br>\n",
    "   Then again Pickle this trained dataset to a saparate file.   "
   ]
  },
  {
   "cell_type": "markdown",
   "metadata": {},
   "source": [
    "#### Demonstration Example\n",
    "![Alt text](./cpgp_dataset_3.png)"
   ]
  },
  {
   "cell_type": "markdown",
   "metadata": {},
   "source": [
    "## FLASK"
   ]
  },
  {
   "cell_type": "markdown",
   "metadata": {},
   "source": [
    "The web framework we are using to implement this Spam Ham detection is Flask\n",
    "<br>\n",
    "* Maintain requirement.txt file \n",
    "    * This include all the packages list we are using for application. <br>\n",
    "    ```python\n",
    "    pip freeze > requirements #(for adding new dependencies to this file)\n",
    "    pip install -r requirements.txt #(for installing packages from this file)\n",
    "    ```"
   ]
  },
  {
   "cell_type": "markdown",
   "metadata": {},
   "source": [
    "### APIs and JINJA\n",
    "\n",
    "We are making APIs that gonna hit when a user requets to enter that address\n",
    "\n",
    "```python\n",
    "app.route(\"/fronPage\"):\n",
    "    return \"Front Page\"\n",
    "\n",
    "    ## For this API when a user hits the address like this www.example.com/fronPage a user will be reponsed \"Front Page\" text\n",
    "```    \n"
   ]
  },
  {
   "cell_type": "markdown",
   "metadata": {},
   "source": [
    "So in our case we Throw a html file using render template module of Flask"
   ]
  },
  {
   "cell_type": "markdown",
   "metadata": {},
   "source": [
    "# aap.py\n",
    "\n",
    "```python\n",
    "@app.route(\"/\")\n",
    "def index():\n",
    "    return render_template(\"index.html\") # render template gonna render this index.html file\n",
    "\n",
    "\n",
    "# Index.html file is taking input in the form of form\n",
    "# we will get this input in data_email varibale and we will send the response in msg email\n",
    "# for communication we are using Jinja`s syntax {{}}\n",
    "\n",
    "\n",
    "@app.route(\"/check\", methods=[\"POST\"])\n",
    "def check():\n",
    "    if request.method == \"POST\":\n",
    "        \n",
    "        #Getting data\n",
    "        data_email = request.form[\"email_text\"]\n",
    "        data = [data_email]\n",
    "        \n",
    "        #Now putting this data to out pickled files\n",
    "        vect = cv.transform(data).toarray()\n",
    "        class_type = classifier.predict(vect)\n",
    "\n",
    "        #setting the value of msg varibale according to the class type we get from models\n",
    "        if class_type == ['spam'] :\n",
    "            msg = \"\"\"<h4 style=\"color: red\">Spam email be aware !!!!</h4>\"\"\"\n",
    "        else : \n",
    "            msg = \"\"\"<h4 style=\"color: green\">email looks Good<<->> </h4>\"\"\"\n",
    "\n",
    "    ## Again using render_template we are rendering that again file but this time with parameters, see index.html file       \n",
    "    return render_template(\"index.html\" ,msg= msg, data_email = data_email )\n",
    "```\n"
   ]
  },
  {
   "cell_type": "markdown",
   "metadata": {},
   "source": [
    "# index.html "
   ]
  },
  {
   "cell_type": "markdown",
   "metadata": {},
   "source": [
    "``` html\n",
    "<div class=\"mb-3 input_area\">\n",
    "        <form action=\"/check\" name=\"email\" method=\"post\">\n",
    "        <label for=\"exampleFormControlTextarea1\" class=\"form-label\">Enter your email (text) here</label>\n",
    "        <textarea class=\"form-control\" id=\"exampleFormControlTextarea1\" rows=\"3\" name=\"email_text\">{{data_email}}</textarea>\n",
    "        <button type=\"submit\" class=\"btn btn-success mt-3\">Enter</button>\n",
    "        </form>\n",
    "        <div>\n",
    "            {{msg |safe}}",
    "          </div>\n",
    "</div>\n",
    "```",
    "this msg varible will print something when we pass this msg as a parameter and {{}}is a syntax of Jinja"
   ]
  },
  {
   "cell_type": "markdown",
   "metadata": {},
   "source": [
    "# Procfile\n",
    "This file is for Heroku for deployement of this Flask App. This tells deployement interface to which which type of this application.\n",
    "\n",
    "<br>\n"
   ]
  },
  {
   "cell_type": "markdown",
   "metadata": {},
   "source": [
    "<br>\n",
    "\n",
    "# Deployement\n",
    "\n",
    "We deployed this application by putting all our code to GitHub and then linking this repo to Heroku.\n",
    "Heroku is a PAAS (platform as a service). <br> \n",
    "That means it will hanlde all stuff like which type of OS or what additional resouces we require to make build of this application. so with some commands we can deploy this application."
   ]
  },
  {
   "cell_type": "markdown",
   "metadata": {},
   "source": [
    "## Final Product\n",
    "![Alt text](./sample.PNG)"
   ]
  }
 ],
 "metadata": {
  "kernelspec": {
   "display_name": "Python 3.10.8 64-bit",
   "language": "python",
   "name": "python3"
  },
  "language_info": {
   "codemirror_mode": {
    "name": "ipython",
    "version": 3
   },
   "file_extension": ".py",
   "mimetype": "text/x-python",
   "name": "python",
   "nbconvert_exporter": "python",
   "pygments_lexer": "ipython3",
   "version": "3.10.8"
  },
  "orig_nbformat": 4,
  "vscode": {
   "interpreter": {
    "hash": "aa0111cc17ecd8cafd660c5dc05e67a11774bcc00aacf3fcad162efe3a73f979"
   }
  }
 },
 "nbformat": 4,
 "nbformat_minor": 2
}
